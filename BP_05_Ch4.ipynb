{
  "nbformat": 4,
  "nbformat_minor": 0,
  "metadata": {
    "colab": {
      "provenance": [],
      "authorship_tag": "ABX9TyPOb9sjL126lNH3gX38pJFF",
      "include_colab_link": true
    },
    "kernelspec": {
      "name": "python3",
      "display_name": "Python 3"
    },
    "language_info": {
      "name": "python"
    }
  },
  "cells": [
    {
      "cell_type": "markdown",
      "metadata": {
        "id": "view-in-github",
        "colab_type": "text"
      },
      "source": [
        "<a href=\"https://colab.research.google.com/github/JHW7/BP_05_Ch4/blob/main/BP_05_Ch4.ipynb\" target=\"_parent\"><img src=\"https://colab.research.google.com/assets/colab-badge.svg\" alt=\"Open In Colab\"/></a>"
      ]
    },
    {
      "cell_type": "markdown",
      "source": [
        "1. 왜 다음과 같은 수식이 오류를 발생시키는가? 올바르게 수정하라. "
      ],
      "metadata": {
        "id": "Rw96GMLjSWBX"
      }
    },
    {
      "cell_type": "code",
      "source": [
        "print('나는' + str(12) + '개의 사과를 먹었다.')"
      ],
      "metadata": {
        "colab": {
          "base_uri": "https://localhost:8080/"
        },
        "id": "i2WSRc96SSN3",
        "outputId": "119daf25-d516-461e-c3d5-aaf542fbbf4d"
      },
      "execution_count": 1,
      "outputs": [
        {
          "output_type": "stream",
          "name": "stdout",
          "text": [
            "나는12개의 사과를 먹었다.\n"
          ]
        }
      ]
    },
    {
      "cell_type": "markdown",
      "source": [
        "2. 다음과 같은 수식을 계산하면 결과는 무엇인가?"
      ],
      "metadata": {
        "id": "RV8NO8VJSrAu"
      }
    },
    {
      "cell_type": "code",
      "source": [
        "print('apple' + 'grape')\n",
        "print('apple' * 3)"
      ],
      "metadata": {
        "colab": {
          "base_uri": "https://localhost:8080/"
        },
        "id": "LRcRyoR6Swyc",
        "outputId": "a05132e6-92c3-4ee7-d9b7-edc1ad0236c0"
      },
      "execution_count": 2,
      "outputs": [
        {
          "output_type": "stream",
          "name": "stdout",
          "text": [
            "applegrape\n",
            "appleappleapple\n"
          ]
        }
      ]
    },
    {
      "cell_type": "markdown",
      "source": [
        "3. 다음과 같이 사용자가 입력한 문자열 중에서 처음 2글자와 마지막 2글자를 추출한 후에 이들을 합쳐서 출력해보자."
      ],
      "metadata": {
        "id": "A8Oc_WrbS5Iv"
      }
    },
    {
      "cell_type": "code",
      "source": [
        "str = input(\"문자열을 입력하시오: \")\n",
        "s = str[0:2] + str[-2:]\n",
        "print(s)"
      ],
      "metadata": {
        "colab": {
          "base_uri": "https://localhost:8080/"
        },
        "id": "cmDM0zfvTDn5",
        "outputId": "5aeef5b3-78db-4780-dfb7-4e1847e0a311"
      },
      "execution_count": 8,
      "outputs": [
        {
          "output_type": "stream",
          "name": "stdout",
          "text": [
            "문자열을 입력하시오: 오렌지먹는곰\n",
            "오렌는곰\n"
          ]
        }
      ]
    },
    {
      "cell_type": "markdown",
      "source": [
        "4. 다음과 같이 사용자가 입력한 문자열 뒤에 항상 \"하는 중\"을 붙이는 프로그램을 작성해보자."
      ],
      "metadata": {
        "id": "LvmBte2MTpdd"
      }
    },
    {
      "cell_type": "code",
      "source": [
        "s = input(\"문자열을 입력하시오: \")\n",
        "s += \"하는 중\"\n",
        "print(s)"
      ],
      "metadata": {
        "colab": {
          "base_uri": "https://localhost:8080/"
        },
        "id": "t-MG1OMUUeto",
        "outputId": "952d2543-5887-48db-b73f-24ad4687e49a"
      },
      "execution_count": 10,
      "outputs": [
        {
          "output_type": "stream",
          "name": "stdout",
          "text": [
            "문자열을 입력하시오: 조개잡기\n",
            "조개잡기하는 중\n"
          ]
        }
      ]
    },
    {
      "cell_type": "markdown",
      "source": [
        "5. 사용자가 입력한 기호 안에 문자열을 삽입하려면 어떻게 해야 하는가? 기호는 문자 2개로 이루어져 있다고 가정하자. \n"
      ],
      "metadata": {
        "id": "Uv_VX_AYUvM3"
      }
    },
    {
      "cell_type": "code",
      "source": [
        "str = input(\"기호를 입력하시오 :\")\n",
        "word = input(\"중간에 삽입할 문자열을 입력하시오 :\")\n",
        "s = str[:1] + word + str[1:]\n",
        "print(s)"
      ],
      "metadata": {
        "colab": {
          "base_uri": "https://localhost:8080/"
        },
        "id": "6NXpYomCVDVs",
        "outputId": "b9fd1edc-78ff-467c-8808-7ad4558e68ed"
      },
      "execution_count": 11,
      "outputs": [
        {
          "output_type": "stream",
          "name": "stdout",
          "text": [
            "기호를 입력하시오 :()\n",
            "중간에 삽입할 문자열을 입력하시오 :과제\n",
            "(과제)\n"
          ]
        }
      ]
    },
    {
      "cell_type": "markdown",
      "source": [
        "6. 4개의 숫자가 들어 있는 리스트가 있다. 리스트 안의 숫자들을 꺼내서 합계를 계산하여 출력하는 프로그램을 작성하라. 반복문은 사용하지 않는다. 리스트의 길이는 항상 4사로 가정한다."
      ],
      "metadata": {
        "id": "wT1pa_VyVYB4"
      }
    },
    {
      "cell_type": "code",
      "source": [
        "lista = [1, 2, 3, 4]\n",
        "sum = 0\n",
        "sum = lista[0] + lista[1] + lista[2] + lista[3]                    \n",
        "print(\"리스트 = \", lista)\n",
        "print(\"리스트 숫자들의 합 = \", sum)"
      ],
      "metadata": {
        "colab": {
          "base_uri": "https://localhost:8080/"
        },
        "id": "ThCInUf4Vi3_",
        "outputId": "4cd42e48-ac9b-4524-8e87-a8c31c4c44a5"
      },
      "execution_count": 12,
      "outputs": [
        {
          "output_type": "stream",
          "name": "stdout",
          "text": [
            "리스트 =  [1, 2, 3, 4]\n",
            "리스트 숫자들의 합 =  10\n"
          ]
        }
      ]
    },
    {
      "cell_type": "markdown",
      "source": [
        "7. 사용자가 입력하는 3가지 색상을 리스트에 저장하였다가 하나씩 꺼내서 그 색상으로 채워진 원을 그리는 프로그램을 작성해보자. 반복문은 사용하지 않는다. (idle)"
      ],
      "metadata": {
        "id": "-7DXnPIBVslf"
      }
    },
    {
      "cell_type": "markdown",
      "source": [
        "8.사용자가 입력하는 3개의 좌표 (x,y)를 리스트에 저장한다. 이들 좌표를 꺼내서 거북이가 이동하는 프로그램을 작성해보자. (idle)"
      ],
      "metadata": {
        "id": "-5TSXp5uV9re"
      }
    }
  ]
}